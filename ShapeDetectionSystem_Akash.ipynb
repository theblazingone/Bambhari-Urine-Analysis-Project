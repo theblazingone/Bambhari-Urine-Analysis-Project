{
  "cells": [
    {
      "cell_type": "code",
      "execution_count": null,
      "metadata": {
        "id": "GE0cdMZ7xXhU"
      },
      "outputs": [],
      "source": [
        "from keras.applications.vgg16 import VGG16\n",
        "from keras.preprocessing.image import ImageDataGenerator\n",
        "from keras.models import Model\n",
        "from keras.layers import Dense, GlobalAveragePooling2D\n",
        "from keras.optimizers import Adam\n",
        "from keras.callbacks import ModelCheckpoint, EarlyStopping"
      ]
    },
    {
      "cell_type": "code",
      "execution_count": null,
      "metadata": {
        "colab": {
          "base_uri": "https://localhost:8080/"
        },
        "id": "iToyslPFxdRH",
        "outputId": "2a0c3ced-d274-4fbe-d8c4-9f046a5b1193"
      },
      "outputs": [
        {
          "name": "stdout",
          "output_type": "stream",
          "text": [
            "Downloading data from https://storage.googleapis.com/tensorflow/keras-applications/vgg16/vgg16_weights_tf_dim_ordering_tf_kernels_notop.h5\n",
            "58889256/58889256 [==============================] - 0s 0us/step\n"
          ]
        }
      ],
      "source": [
        "# Set the image size and batch size\n",
        "image_size = 224\n",
        "batch_size = 32\n",
        "\n",
        "# Load the VGG16 model without the top layers\n",
        "base_model = VGG16(weights='imagenet', include_top=False, input_shape=(image_size, image_size, 3))\n",
        "\n",
        "# Add custom top layers to the model\n",
        "x = base_model.output\n",
        "x = GlobalAveragePooling2D()(x)\n",
        "x = Dense(1024, activation='relu')(x)\n",
        "predictions = Dense(9, activation='softmax')(x)\n",
        "model = Model(inputs=base_model.input, outputs=predictions)"
      ]
    },
    {
      "cell_type": "code",
      "execution_count": null,
      "metadata": {
        "id": "gp0nDgofxdTa"
      },
      "outputs": [],
      "source": [
        "# Freeze the base model layers\n",
        "for layer in base_model.layers:\n",
        "    layer.trainable = False"
      ]
    },
    {
      "cell_type": "code",
      "execution_count": null,
      "metadata": {
        "id": "G1B1v4APxdVO"
      },
      "outputs": [],
      "source": [
        "# Compile the model\n",
        "model.compile(optimizer=Adam(learning_rate=0.001), loss='categorical_crossentropy', metrics=['accuracy'])"
      ]
    },
    {
      "cell_type": "code",
      "execution_count": null,
      "metadata": {
        "colab": {
          "base_uri": "https://localhost:8080/"
        },
        "id": "69SAZiQMxdYw",
        "outputId": "109536f5-de0f-496d-d621-c61d2ec47935"
      },
      "outputs": [
        {
          "name": "stdout",
          "output_type": "stream",
          "text": [
            "Found 10800 images belonging to 9 classes.\n",
            "Found 2700 images belonging to 9 classes.\n"
          ]
        }
      ],
      "source": [
        "# Set up data generators for training and validation data\n",
        "train_datagen = ImageDataGenerator(rescale=1./255)\n",
        "train_generator = train_datagen.flow_from_directory(\n",
        "        '/content/drive/MyDrive/sample_train_dataset/sample_train_dataset',\n",
        "        target_size=(image_size, image_size),\n",
        "        batch_size=batch_size,\n",
        "        class_mode='categorical')\n",
        "\n",
        "validation_datagen = ImageDataGenerator(rescale=1./255)\n",
        "validation_generator = validation_datagen.flow_from_directory(\n",
        "        '/content/drive/MyDrive/sample_test_dataset/sample_test_dataset',\n",
        "        target_size=(image_size, image_size),\n",
        "        batch_size=batch_size,\n",
        "        class_mode='categorical')"
      ]
    },
    {
      "cell_type": "code",
      "execution_count": null,
      "metadata": {
        "id": "ANtw8ye0xdhF"
      },
      "outputs": [],
      "source": [
        "# Set up callbacks for early stopping and saving the best model\n",
        "early_stopping = EarlyStopping(monitor='val_loss', patience=10)\n",
        "checkpointer = ModelCheckpoint(filepath='/content/drive/MyDrive/models/best_model_N.h5', monitor='val_loss', save_best_only=True)"
      ]
    },
    {
      "cell_type": "code",
      "execution_count": null,
      "metadata": {
        "colab": {
          "background_save": true,
          "base_uri": "https://localhost:8080/"
        },
        "id": "hsDgv2Kk45Ki",
        "outputId": "b0336946-1c0b-427e-abe1-aa309adabb3d"
      },
      "outputs": [
        {
          "name": "stdout",
          "output_type": "stream",
          "text": [
            "Epoch 1/30\n",
            "  5/337 [..............................] - ETA: 1:56:15 - loss: 2.2711 - accuracy: 0.1250"
          ]
        }
      ],
      "source": [
        "# Train the model\n",
        "history = model.fit(\n",
        "      train_generator,\n",
        "      steps_per_epoch=train_generator.samples // batch_size,\n",
        "      epochs=30,\n",
        "      validation_data=validation_generator,\n",
        "      validation_steps=validation_generator.samples // batch_size,\n",
        "      callbacks=[early_stopping, checkpointer])"
      ]
    },
    {
      "cell_type": "code",
      "execution_count": null,
      "metadata": {
        "id": "vTvXAQ7F6ZSZ"
      },
      "outputs": [],
      "source": [
        "import matplotlib.pyplot as plt\n",
        "plt.plot(history.history['loss'], label='training loss') #Plotting the accuracies\n",
        "plt.plot(history.history['val_loss'], label='validation loss')\n",
        "plt.legend()\n",
        "plt.show()\n",
        "plt.plot(history.history['accuracy'], label='training accuracy')\n",
        "plt.plot(history.history['val_accuracy'], label='validation accuracy')\n",
        "plt.legend()\n",
        "plt.show()"
      ]
    },
    {
      "cell_type": "code",
      "execution_count": 4,
      "metadata": {
        "id": "MOKt97AMyZDg",
        "colab": {
          "base_uri": "https://localhost:8080/",
          "height": 497
        },
        "outputId": "f0b2b560-61ca-4dac-9fa4-e8c643419860"
      },
      "outputs": [
        {
          "output_type": "stream",
          "name": "stdout",
          "text": [
            "1/1 [==============================] - 10s 10s/step\n",
            "[[1. 0. 0. 0. 0. 0. 0. 0. 0.]]\n",
            "0\n",
            "Circle\n"
          ]
        },
        {
          "output_type": "display_data",
          "data": {
            "text/plain": [
              "<Figure size 640x480 with 1 Axes>"
            ],
            "image/png": "[encoded data removed]"
          },
          "metadata": {}
        }
      ],
      "source": [
        "# Make predictions on a test image\n",
        "import numpy as np\n",
        "import matplotlib.pyplot as plt\n",
        "from tensorflow.keras.preprocessing import image\n",
        "import keras\n",
        "# Load the best saved model\n",
        "saved_model = keras.models.load_model(\"/content/drive/MyDrive/models/best_model_1.h5\")\n",
        "\n",
        "\n",
        "\n",
        "# test_image_path = \"/content/WhatsApp Image 2023-07-12 at 21.10.15.jpg\"  # Path to your test image\n",
        "# test_image_path = \"/content/drive/MyDrive/Heptagon.png\"  # Path to your test image\n",
        "# test_image_path = \"/content/drive/MyDrive/Hexagon.png\"  # Path to your test image\n",
        "# test_image_path = \"/content/drive/MyDrive/Nonagon.png\"  # Path to your test image--\n",
        "# test_image_path = \"/content/drive/MyDrive/Octagon.png\"  # Path to your test image\n",
        "# test_image_path = \"/content/drive/MyDrive/Pentagon.png\"  # Path to your test image--\n",
        "# test_image_path = \"/content/drive/MyDrive/Star.png\"  # Path to your test image\n",
        "# test_image_path = \"/content/drive/MyDrive/Triangle.jpg\"  # Path to your test image--\n",
        "# test_image_path = \"/content/drive/MyDrive/square.png\"  # Path to your test image--\n",
        "\n",
        "\n",
        "# test_image_path = \"/content/drive/MyDrive/square-.png\"  # Path to your test image--\n",
        "# test_image_path = \"/content/drive/MyDrive/star-.png\"  # Path to your test image--\n",
        "test_image_path = \"/content/drive/MyDrive/circle-.png\"  # Path to your test image--\n",
        "# test_image_path = \"/content/drive/MyDrive/triangle-.png\"  # Path to your test image--\n",
        "\n",
        "test_image = image.load_img(test_image_path, target_size=(224, 224))\n",
        "test_image = image.img_to_array(test_image)\n",
        "test_image = np.expand_dims(test_image, axis=0)\n",
        "\n",
        "# Map the predicted class indices to shape labels\n",
        "shape_labels = [\"Circle\", \"Heptagon\", \"Hexagon\", \"Nonagon\", \"Octagon\", \"Pentagon\", \"Square\", \"Star\" ,\"Triangle\"]\n",
        "output = saved_model.predict(test_image)\n",
        "print(output)\n",
        "predicted_shape_index = np.argmax(output)\n",
        "print(predicted_shape_index)\n",
        "predicted_shape_label = shape_labels[predicted_shape_index]\n",
        "print(predicted_shape_label)\n",
        "plt.imshow(image.load_img(test_image_path))\n",
        "plt.title(f\"Predicted Shape: {predicted_shape_label}\")\n",
        "plt.axis('off')\n",
        "plt.show()"
      ]
    },
    {
      "cell_type": "code",
      "source": [
        "from google.colab import drive\n",
        "drive.mount('/content/drive')"
      ],
      "metadata": {
        "colab": {
          "base_uri": "https://localhost:8080/"
        },
        "id": "Ad2uiAqaF_BL",
        "outputId": "df1a838f-9b9b-48f6-c8fb-b14b1f67c265"
      },
      "execution_count": 1,
      "outputs": [
        {
          "output_type": "stream",
          "name": "stdout",
          "text": [
            "Drive already mounted at /content/drive; to attempt to forcibly remount, call drive.mount(\"/content/drive\", force_remount=True).\n"
          ]
        }
      ]
    },
    {
      "cell_type": "code",
      "execution_count": null,
      "metadata": {
        "id": "9OusHQkyeP2M"
      },
      "outputs": [],
      "source": [
        "\n",
        "# model_1=load_model('/content/gdrive/MyDrive/vgg16.hdf5')\n",
        "saved_model = keras.models.load_model(\"/content/drive/MyDrive/models/best_model_1.h5\")"
      ]
    },
    {
      "cell_type": "code",
      "execution_count": null,
      "metadata": {
        "id": "GnDRfIu_eNhZ"
      },
      "outputs": [],
      "source": []
    }
  ],
  "metadata": {
    "accelerator": "GPU",
    "colab": {
      "provenance": [],
      "gpuType": "T4"
    },
    "kernelspec": {
      "display_name": "Python 3",
      "name": "python3"
    },
    "language_info": {
      "name": "python"
    }
  },
  "nbformat": 4,
  "nbformat_minor": 0
}